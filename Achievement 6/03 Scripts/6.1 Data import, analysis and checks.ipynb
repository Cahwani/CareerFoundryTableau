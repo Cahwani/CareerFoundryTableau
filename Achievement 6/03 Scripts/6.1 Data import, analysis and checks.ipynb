{
 "cells": [
  {
   "cell_type": "markdown",
   "id": "ff6c5343",
   "metadata": {},
   "source": [
    "# Contents:"
   ]
  },
  {
   "cell_type": "markdown",
   "id": "a5e2df62",
   "metadata": {},
   "source": [
    "#### Import libraries\n",
    "#### Importing Data\n",
    "#### Data cleaning"
   ]
  },
  {
   "cell_type": "markdown",
   "id": "a2d115f2",
   "metadata": {},
   "source": [
    "## 01. Importing libraries"
   ]
  },
  {
   "cell_type": "code",
   "execution_count": 1,
   "id": "4f105c76",
   "metadata": {},
   "outputs": [],
   "source": [
    "# Import libraries\n",
    "import pandas as pd\n",
    "import numpy as np\n",
    "import os"
   ]
  },
  {
   "cell_type": "markdown",
   "id": "591caf51",
   "metadata": {},
   "source": [
    "## 02 Importing Data "
   ]
  },
  {
   "cell_type": "code",
   "execution_count": 2,
   "id": "1e17ee40",
   "metadata": {},
   "outputs": [],
   "source": [
    "path=r'C:\\Users\\61491\\Achievement 6'"
   ]
  },
  {
   "cell_type": "code",
   "execution_count": 3,
   "id": "9b1ceecd",
   "metadata": {},
   "outputs": [],
   "source": [
    "df = pd.read_csv(r'C:\\Users\\61491\\Achievement 6\\02 Data\\Original Data\\energy.csv', index_col = False)"
   ]
  },
  {
   "cell_type": "markdown",
   "id": "6e7612ce",
   "metadata": {},
   "source": [
    "## 03 Data Cleaning"
   ]
  },
  {
   "cell_type": "code",
   "execution_count": 4,
   "id": "c968bba0",
   "metadata": {
    "scrolled": true
   },
   "outputs": [
    {
     "data": {
      "text/html": [
       "<div>\n",
       "<style scoped>\n",
       "    .dataframe tbody tr th:only-of-type {\n",
       "        vertical-align: middle;\n",
       "    }\n",
       "\n",
       "    .dataframe tbody tr th {\n",
       "        vertical-align: top;\n",
       "    }\n",
       "\n",
       "    .dataframe thead th {\n",
       "        text-align: right;\n",
       "    }\n",
       "</style>\n",
       "<table border=\"1\" class=\"dataframe\">\n",
       "  <thead>\n",
       "    <tr style=\"text-align: right;\">\n",
       "      <th></th>\n",
       "      <th>Country</th>\n",
       "      <th>Year</th>\n",
       "      <th>Energy type</th>\n",
       "      <th>Energy consumption</th>\n",
       "      <th>Energy production</th>\n",
       "      <th>GDP</th>\n",
       "      <th>Population</th>\n",
       "      <th>CO2 emission</th>\n",
       "    </tr>\n",
       "  </thead>\n",
       "  <tbody>\n",
       "    <tr>\n",
       "      <th>0</th>\n",
       "      <td>World</td>\n",
       "      <td>2000</td>\n",
       "      <td>All energy types</td>\n",
       "      <td>402.378722</td>\n",
       "      <td>399.855216</td>\n",
       "      <td>66398.35639</td>\n",
       "      <td>6141880.599</td>\n",
       "      <td>23494.916280</td>\n",
       "    </tr>\n",
       "    <tr>\n",
       "      <th>1</th>\n",
       "      <td>World</td>\n",
       "      <td>2000</td>\n",
       "      <td>coal</td>\n",
       "      <td>98.657630</td>\n",
       "      <td>96.352236</td>\n",
       "      <td>66398.35639</td>\n",
       "      <td>6141880.599</td>\n",
       "      <td>8901.519950</td>\n",
       "    </tr>\n",
       "    <tr>\n",
       "      <th>2</th>\n",
       "      <td>World</td>\n",
       "      <td>2000</td>\n",
       "      <td>Natural gas</td>\n",
       "      <td>89.604851</td>\n",
       "      <td>89.284232</td>\n",
       "      <td>66398.35639</td>\n",
       "      <td>6141880.599</td>\n",
       "      <td>4571.850603</td>\n",
       "    </tr>\n",
       "    <tr>\n",
       "      <th>3</th>\n",
       "      <td>World</td>\n",
       "      <td>2000</td>\n",
       "      <td>Petroleum &amp; Liquids</td>\n",
       "      <td>156.666231</td>\n",
       "      <td>156.352420</td>\n",
       "      <td>66398.35639</td>\n",
       "      <td>6141880.599</td>\n",
       "      <td>10021.545730</td>\n",
       "    </tr>\n",
       "    <tr>\n",
       "      <th>4</th>\n",
       "      <td>World</td>\n",
       "      <td>2000</td>\n",
       "      <td>nuclear</td>\n",
       "      <td>25.650521</td>\n",
       "      <td>25.650521</td>\n",
       "      <td>66398.35639</td>\n",
       "      <td>6141880.599</td>\n",
       "      <td>0.000000</td>\n",
       "    </tr>\n",
       "  </tbody>\n",
       "</table>\n",
       "</div>"
      ],
      "text/plain": [
       "  Country  Year          Energy type  Energy consumption  Energy production  \\\n",
       "0   World  2000     All energy types          402.378722         399.855216   \n",
       "1   World  2000                 coal           98.657630          96.352236   \n",
       "2   World  2000          Natural gas           89.604851          89.284232   \n",
       "3   World  2000  Petroleum & Liquids          156.666231         156.352420   \n",
       "4   World  2000              nuclear           25.650521          25.650521   \n",
       "\n",
       "           GDP   Population  CO2 emission  \n",
       "0  66398.35639  6141880.599  23494.916280  \n",
       "1  66398.35639  6141880.599   8901.519950  \n",
       "2  66398.35639  6141880.599   4571.850603  \n",
       "3  66398.35639  6141880.599  10021.545730  \n",
       "4  66398.35639  6141880.599      0.000000  "
      ]
     },
     "execution_count": 4,
     "metadata": {},
     "output_type": "execute_result"
    }
   ],
   "source": [
    "df.head(5)"
   ]
  },
  {
   "cell_type": "code",
   "execution_count": 5,
   "id": "c783698d",
   "metadata": {
    "scrolled": true
   },
   "outputs": [
    {
     "data": {
      "text/plain": [
       "Index(['Country', 'Year', 'Energy type', 'Energy consumption',\n",
       "       'Energy production', 'GDP', 'Population', 'CO2 emission'],\n",
       "      dtype='object')"
      ]
     },
     "execution_count": 5,
     "metadata": {},
     "output_type": "execute_result"
    }
   ],
   "source": [
    "df.columns"
   ]
  },
  {
   "cell_type": "code",
   "execution_count": 6,
   "id": "412a05e4",
   "metadata": {},
   "outputs": [
    {
     "data": {
      "text/plain": [
       "(22800, 8)"
      ]
     },
     "execution_count": 6,
     "metadata": {},
     "output_type": "execute_result"
    }
   ],
   "source": [
    "df.shape"
   ]
  },
  {
   "cell_type": "code",
   "execution_count": 7,
   "id": "d16c8373",
   "metadata": {
    "scrolled": true
   },
   "outputs": [
    {
     "data": {
      "text/html": [
       "<div>\n",
       "<style scoped>\n",
       "    .dataframe tbody tr th:only-of-type {\n",
       "        vertical-align: middle;\n",
       "    }\n",
       "\n",
       "    .dataframe tbody tr th {\n",
       "        vertical-align: top;\n",
       "    }\n",
       "\n",
       "    .dataframe thead th {\n",
       "        text-align: right;\n",
       "    }\n",
       "</style>\n",
       "<table border=\"1\" class=\"dataframe\">\n",
       "  <thead>\n",
       "    <tr style=\"text-align: right;\">\n",
       "      <th></th>\n",
       "      <th>Year</th>\n",
       "      <th>Energy consumption</th>\n",
       "      <th>Energy production</th>\n",
       "      <th>GDP</th>\n",
       "      <th>Population</th>\n",
       "      <th>CO2 emission</th>\n",
       "    </tr>\n",
       "  </thead>\n",
       "  <tbody>\n",
       "    <tr>\n",
       "      <th>count</th>\n",
       "      <td>22800.000000</td>\n",
       "      <td>19619.000000</td>\n",
       "      <td>1.961900e+04</td>\n",
       "      <td>22800.000000</td>\n",
       "      <td>2.280000e+04</td>\n",
       "      <td>22800.000000</td>\n",
       "    </tr>\n",
       "    <tr>\n",
       "      <th>mean</th>\n",
       "      <td>2009.500000</td>\n",
       "      <td>2.074488</td>\n",
       "      <td>2.058735e+00</td>\n",
       "      <td>993.238417</td>\n",
       "      <td>7.267690e+04</td>\n",
       "      <td>106.856237</td>\n",
       "    </tr>\n",
       "    <tr>\n",
       "      <th>std</th>\n",
       "      <td>5.766408</td>\n",
       "      <td>19.285077</td>\n",
       "      <td>1.900505e+01</td>\n",
       "      <td>7152.339884</td>\n",
       "      <td>5.175612e+05</td>\n",
       "      <td>1130.292533</td>\n",
       "    </tr>\n",
       "    <tr>\n",
       "      <th>min</th>\n",
       "      <td>2000.000000</td>\n",
       "      <td>-0.163438</td>\n",
       "      <td>-1.000000e-39</td>\n",
       "      <td>0.161470</td>\n",
       "      <td>2.031300e+01</td>\n",
       "      <td>-0.000138</td>\n",
       "    </tr>\n",
       "    <tr>\n",
       "      <th>25%</th>\n",
       "      <td>2004.750000</td>\n",
       "      <td>0.001869</td>\n",
       "      <td>0.000000e+00</td>\n",
       "      <td>14.791200</td>\n",
       "      <td>2.059963e+03</td>\n",
       "      <td>0.000000</td>\n",
       "    </tr>\n",
       "    <tr>\n",
       "      <th>50%</th>\n",
       "      <td>2009.500000</td>\n",
       "      <td>0.046448</td>\n",
       "      <td>4.889511e-03</td>\n",
       "      <td>60.131500</td>\n",
       "      <td>7.742415e+03</td>\n",
       "      <td>0.111555</td>\n",
       "    </tr>\n",
       "    <tr>\n",
       "      <th>75%</th>\n",
       "      <td>2014.250000</td>\n",
       "      <td>0.360610</td>\n",
       "      <td>2.040835e-01</td>\n",
       "      <td>314.234925</td>\n",
       "      <td>2.515214e+04</td>\n",
       "      <td>9.204975</td>\n",
       "    </tr>\n",
       "    <tr>\n",
       "      <th>max</th>\n",
       "      <td>2019.000000</td>\n",
       "      <td>601.040490</td>\n",
       "      <td>6.115090e+02</td>\n",
       "      <td>127690.247100</td>\n",
       "      <td>7.714631e+06</td>\n",
       "      <td>35584.933500</td>\n",
       "    </tr>\n",
       "  </tbody>\n",
       "</table>\n",
       "</div>"
      ],
      "text/plain": [
       "               Year  Energy consumption  Energy production            GDP  \\\n",
       "count  22800.000000        19619.000000       1.961900e+04   22800.000000   \n",
       "mean    2009.500000            2.074488       2.058735e+00     993.238417   \n",
       "std        5.766408           19.285077       1.900505e+01    7152.339884   \n",
       "min     2000.000000           -0.163438      -1.000000e-39       0.161470   \n",
       "25%     2004.750000            0.001869       0.000000e+00      14.791200   \n",
       "50%     2009.500000            0.046448       4.889511e-03      60.131500   \n",
       "75%     2014.250000            0.360610       2.040835e-01     314.234925   \n",
       "max     2019.000000          601.040490       6.115090e+02  127690.247100   \n",
       "\n",
       "         Population  CO2 emission  \n",
       "count  2.280000e+04  22800.000000  \n",
       "mean   7.267690e+04    106.856237  \n",
       "std    5.175612e+05   1130.292533  \n",
       "min    2.031300e+01     -0.000138  \n",
       "25%    2.059963e+03      0.000000  \n",
       "50%    7.742415e+03      0.111555  \n",
       "75%    2.515214e+04      9.204975  \n",
       "max    7.714631e+06  35584.933500  "
      ]
     },
     "execution_count": 7,
     "metadata": {},
     "output_type": "execute_result"
    }
   ],
   "source": [
    "df.describe()"
   ]
  },
  {
   "cell_type": "code",
   "execution_count": 8,
   "id": "0501efb9",
   "metadata": {
    "scrolled": false
   },
   "outputs": [
    {
     "data": {
      "text/plain": [
       "Country                object\n",
       "Year                    int64\n",
       "Energy type            object\n",
       "Energy consumption    float64\n",
       "Energy production     float64\n",
       "GDP                   float64\n",
       "Population            float64\n",
       "CO2 emission          float64\n",
       "dtype: object"
      ]
     },
     "execution_count": 8,
     "metadata": {},
     "output_type": "execute_result"
    }
   ],
   "source": [
    "df.dtypes"
   ]
  },
  {
   "cell_type": "code",
   "execution_count": 9,
   "id": "36912713",
   "metadata": {
    "scrolled": true
   },
   "outputs": [
    {
     "data": {
      "text/plain": [
       "Country                  0\n",
       "Year                     0\n",
       "Energy type              0\n",
       "Energy consumption    3181\n",
       "Energy production     3181\n",
       "GDP                      0\n",
       "Population               0\n",
       "CO2 emission             0\n",
       "dtype: int64"
      ]
     },
     "execution_count": 9,
     "metadata": {},
     "output_type": "execute_result"
    }
   ],
   "source": [
    "# finding missing values\n",
    "df.isnull().sum()"
   ]
  },
  {
   "cell_type": "code",
   "execution_count": 10,
   "id": "d3739dea",
   "metadata": {},
   "outputs": [],
   "source": [
    "# Addressing missing values\n",
    "df['Energy consumption'].fillna(0, inplace=True)\n",
    "df['Energy production'].fillna(0, inplace=True)"
   ]
  },
  {
   "cell_type": "code",
   "execution_count": 11,
   "id": "91277260",
   "metadata": {},
   "outputs": [
    {
     "data": {
      "text/plain": [
       "Country               0\n",
       "Year                  0\n",
       "Energy type           0\n",
       "Energy consumption    0\n",
       "Energy production     0\n",
       "GDP                   0\n",
       "Population            0\n",
       "CO2 emission          0\n",
       "dtype: int64"
      ]
     },
     "execution_count": 11,
     "metadata": {},
     "output_type": "execute_result"
    }
   ],
   "source": [
    "# Rechecking missing values\n",
    "df.isnull().sum()"
   ]
  },
  {
   "cell_type": "code",
   "execution_count": 12,
   "id": "2e2e1ae1",
   "metadata": {},
   "outputs": [
    {
     "data": {
      "text/plain": [
       "0        False\n",
       "1        False\n",
       "2        False\n",
       "3        False\n",
       "4        False\n",
       "         ...  \n",
       "22795    False\n",
       "22796    False\n",
       "22797    False\n",
       "22798    False\n",
       "22799    False\n",
       "Length: 22800, dtype: bool"
      ]
     },
     "execution_count": 12,
     "metadata": {},
     "output_type": "execute_result"
    }
   ],
   "source": [
    "# finding duplicates\n",
    "df.duplicated()"
   ]
  },
  {
   "cell_type": "markdown",
   "id": "473f5dfa",
   "metadata": {},
   "source": [
    "The data set does not contain any duplicates"
   ]
  },
  {
   "cell_type": "code",
   "execution_count": 13,
   "id": "b2599df0",
   "metadata": {},
   "outputs": [
    {
     "name": "stdout",
     "output_type": "stream",
     "text": [
      "Country  consistent\n",
      "Year  consistent\n",
      "Energy type  consistent\n",
      "Energy consumption  consistent\n",
      "Energy production  consistent\n",
      "GDP  consistent\n",
      "Population  consistent\n",
      "CO2 emission  consistent\n"
     ]
    }
   ],
   "source": [
    "# finding mixed type data\n",
    "for col in df.columns.tolist():\n",
    "  weird = (df[[col]].applymap(type) != df[[col]].iloc[0].apply(type)).any(axis = 1)\n",
    "  if len (df[weird]) > 0:\n",
    "    print (col, ' mixed')\n",
    "  else: print(col, ' consistent')"
   ]
  },
  {
   "cell_type": "markdown",
   "id": "f0ed81d6",
   "metadata": {},
   "source": [
    "There is no mixed-type data in all columns"
   ]
  },
  {
   "cell_type": "code",
   "execution_count": 14,
   "id": "f5171451",
   "metadata": {},
   "outputs": [],
   "source": [
    "df1 = df"
   ]
  },
  {
   "cell_type": "code",
   "execution_count": 15,
   "id": "d762e6ba",
   "metadata": {},
   "outputs": [],
   "source": [
    "df1.to_csv(os.path.join(path,'02 Data','Prepared Data','energy_checked.csv'))"
   ]
  }
 ],
 "metadata": {
  "kernelspec": {
   "display_name": "Python 3 (ipykernel)",
   "language": "python",
   "name": "python3"
  },
  "language_info": {
   "codemirror_mode": {
    "name": "ipython",
    "version": 3
   },
   "file_extension": ".py",
   "mimetype": "text/x-python",
   "name": "python",
   "nbconvert_exporter": "python",
   "pygments_lexer": "ipython3",
   "version": "3.9.13"
  }
 },
 "nbformat": 4,
 "nbformat_minor": 5
}
